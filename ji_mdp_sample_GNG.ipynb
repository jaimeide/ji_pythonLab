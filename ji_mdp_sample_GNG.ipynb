{
 "cells": [
  {
   "cell_type": "code",
   "execution_count": 1,
   "metadata": {},
   "outputs": [
    {
     "name": "stderr",
     "output_type": "stream",
     "text": [
      "/home/jide/virtualenv/rlgym/lib/python3.6/site-packages/sklearn/cross_validation.py:41: DeprecationWarning: This module was deprecated in version 0.18 in favor of the model_selection module into which all the refactored classes and functions are moved. Also note that the interface of the new CV iterators are different from that of this module. This module will be removed in 0.20.\n",
      "  \"This module will be removed in 0.20.\", DeprecationWarning)\n",
      "/home/jide/virtualenv/rlgym/lib/python3.6/site-packages/sklearn/grid_search.py:42: DeprecationWarning: This module was deprecated in version 0.18 in favor of the model_selection module into which all the refactored classes and functions are moved. This module will be removed in 0.20.\n",
      "  DeprecationWarning)\n",
      "/home/jide/virtualenv/rlgym/lib/python3.6/site-packages/sklearn/learning_curve.py:22: DeprecationWarning: This module was deprecated in version 0.18 in favor of the model_selection module into which all the functions are moved. This module will be removed in 0.20\n",
      "  DeprecationWarning)\n"
     ]
    }
   ],
   "source": [
    "## Sample codes using MDP/GNG implementation\n",
    "\n",
    "# Ref:\n",
    "# - http://mdp-toolkit.sourceforge.net/examples/gng/gng.html\n",
    "# - Nice blog about MDP use: https://jonathanstreet.com/blog/tips-python-data-analysis/\n",
    "# - Interesting application: http://www.math.upatras.gr/~npav/papers/PavlidisTPV_oper2006.pdf\n",
    "\n",
    "import mdp\n",
    "import matplotlib.pyplot as plt\n",
    "%matplotlib inline"
   ]
  },
  {
   "cell_type": "code",
   "execution_count": 11,
   "metadata": {},
   "outputs": [],
   "source": [
    "def uniform(min_, max_, dims):\n",
    "    \"\"\"Return a random number between min_ and max_ .\"\"\"\n",
    "    return mdp.numx_rand.random(dims)*(max_-min_)+min_\n",
    "def circumference_distr(center, radius, n):\n",
    "    \"\"\"Return n random points uniformly distributed on a circumference.\"\"\"\n",
    "    phi = uniform(0, 2*mdp.numx.pi, (n,1))\n",
    "    x = radius*mdp.numx.cos(phi)+center[0]\n",
    "    y = radius*mdp.numx.sin(phi)+center[1]\n",
    "    return mdp.numx.concatenate((x,y), axis=1)\n",
    "def rectangle_distr(center, w, h, n):\n",
    "    \"\"\"Return n random points uniformly distributed on a rectangle.\"\"\"\n",
    "    x = uniform(-w/2., w/2., (n,1))+center[0]\n",
    "    y = uniform(-h/2., h/2., (n,1))+center[1]\n",
    "    return mdp.numx.concatenate((x,y), axis=1)\n",
    "N = 200\n",
    "cf1 = circumference_distr([6,-0.5], 2, N)\n",
    "cf2 = circumference_distr([3,-2], 0.3, N)\n",
    "r1 = rectangle_distr([-1.5,0], 1, 4, N)\n",
    "r2 = rectangle_distr([+1.5,0], 1, 4, N)\n",
    "r3 = rectangle_distr([0,+1.5], 2, 1, N//2)\n",
    "r4 = rectangle_distr([0,-1.5], 2, 1, N//2)\n",
    "x = mdp.numx.concatenate([cf1, cf2,r1,r2,r3,r4], axis=0)\n",
    "x = mdp.numx.take(x,mdp.numx_rand.permutation(x.shape[0]), axis=0) # shuffle data"
   ]
  },
  {
   "cell_type": "code",
   "execution_count": 12,
   "metadata": {},
   "outputs": [
    {
     "data": {
      "text/plain": [
       "[<matplotlib.lines.Line2D at 0x7f8173207278>]"
      ]
     },
     "execution_count": 12,
     "metadata": {},
     "output_type": "execute_result"
    },
    {
     "data": {
      "image/png": "[encoded data removed]",
      "text/plain": [
       "<matplotlib.figure.Figure at 0x7f81734f5be0>"
      ]
     },
     "metadata": {
      "needs_background": "light"
     },
     "output_type": "display_data"
    }
   ],
   "source": [
    "plt.plot(x[:,0],x[:,1],'+')"
   ]
  },
  {
   "cell_type": "code",
   "execution_count": 10,
   "metadata": {},
   "outputs": [],
   "source": [
    "# Create GNG obj\n",
    "gng = mdp.nodes.GrowingNeuralGasNode(max_nodes=75)"
   ]
  },
  {
   "cell_type": "code",
   "execution_count": 15,
   "metadata": {},
   "outputs": [],
   "source": [
    "# Training\n",
    "STEP = 500\n",
    "for i in range(0,x.shape[0],STEP):\n",
    "    gng.train(x[i:i+STEP])\n",
    "    # [...] plotting instructions\n",
    "gng.stop_training()"
   ]
  },
  {
   "cell_type": "code",
   "execution_count": 18,
   "metadata": {},
   "outputs": [
    {
     "data": {
      "text/plain": [
       "array([[ 6.60566178, -1.83824445],\n",
       "       [ 1.49336606,  0.71687102],\n",
       "       [ 3.29608648, -1.94714754],\n",
       "       [ 1.43133751, -1.25051676],\n",
       "       [ 4.38829583,  0.19895119],\n",
       "       [-1.40652294, -0.92493717],\n",
       "       [-1.39078282,  0.87091852],\n",
       "       [ 7.30821621,  0.32528801],\n",
       "       [ 0.07499737, -1.46382274],\n",
       "       [-0.18857538,  1.50617441],\n",
       "       [ 2.48868332, -1.76724265],\n",
       "       [ 1.46235179, -0.26682287]])"
      ]
     },
     "execution_count": 18,
     "metadata": {},
     "output_type": "execute_result"
    }
   ],
   "source": [
    "gng.get_nodes_position()"
   ]
  },
  {
   "cell_type": "code",
   "execution_count": 20,
   "metadata": {},
   "outputs": [
    {
     "data": {
      "text/plain": [
       "[[<mdp.graph.GraphNode at 0x7f8173242630>,\n",
       "  <mdp.graph.GraphNode at 0x7f8173362d68>,\n",
       "  <mdp.graph.GraphNode at 0x7f81731b07b8>,\n",
       "  <mdp.graph.GraphNode at 0x7f8173362e80>,\n",
       "  <mdp.graph.GraphNode at 0x7f817334db00>,\n",
       "  <mdp.graph.GraphNode at 0x7f81732426a0>,\n",
       "  <mdp.graph.GraphNode at 0x7f81731b09e8>,\n",
       "  <mdp.graph.GraphNode at 0x7f81731b0c50>,\n",
       "  <mdp.graph.GraphNode at 0x7f8173362400>,\n",
       "  <mdp.graph.GraphNode at 0x7f81731b09b0>,\n",
       "  <mdp.graph.GraphNode at 0x7f81731b01d0>,\n",
       "  <mdp.graph.GraphNode at 0x7f81731b0eb8>]]"
      ]
     },
     "execution_count": 20,
     "metadata": {},
     "output_type": "execute_result"
    }
   ],
   "source": [
    "gng.graph.connected_components()"
   ]
  },
  {
   "cell_type": "code",
   "execution_count": 33,
   "metadata": {},
   "outputs": [],
   "source": [
    "\n",
    "import mdp\n",
    "from PIL import Image, ImageDraw, ImageFont\n",
    "\n",
    "#Generate data\n",
    "\n",
    "#Fix the random number generator\n",
    "mdp.numx_rand.seed(1266090063)\n",
    "\n",
    "#Functions for generating shpes taken from the mdp tutorial\n",
    "def uniform(min_, max_, dims):\n",
    "    \"\"\"Return a random number between min_ and max_ .\"\"\"\n",
    "    return mdp.numx_rand.random(dims)*(max_-min_)+min_\n",
    "\n",
    "def circumference_distr(center, radius, n):\n",
    "    \"\"\"Return n random points uniformly distributed on a circumference.\"\"\"\n",
    "    phi = uniform(0, 2*mdp.numx.pi, (n,1))\n",
    "    x = radius*mdp.numx.cos(phi)+center[0]\n",
    "    y = radius*mdp.numx.sin(phi)+center[1]\n",
    "    return mdp.numx.concatenate((x,y), axis=1)\n",
    "\n",
    "def circle_distr(center, radius, n):\n",
    "    \"\"\"Return n random points uniformly distributed on a circle.\"\"\"\n",
    "    phi = uniform(0, 2*mdp.numx.pi, (n,1))\n",
    "    sqrt_r = mdp.numx.sqrt(uniform(0, radius*radius, (n,1)))\n",
    "    x = sqrt_r*mdp.numx.cos(phi)+center[0]\n",
    "    y = sqrt_r*mdp.numx.sin(phi)+center[1]\n",
    "    return mdp.numx.concatenate((x,y), axis=1)\n",
    "\n",
    "def rectangle_distr(center, w, h, n):\n",
    "    \"\"\"Return n random points uniformly distributed on a rectangle.\"\"\"\n",
    "    x = uniform(-w/2., w/2., (n,1))+center[0]\n",
    "    y = uniform(-h/2., h/2., (n,1))+center[1]\n",
    "    return mdp.numx.concatenate((x,y), axis=1)\n",
    "\n",
    "N = 2000\n",
    "\n",
    "cf1 = circumference_distr([7.5,6], 2, N//2)\n",
    "cf2 = circumference_distr([5,1], 0.3, N//2)\n",
    "cl1 = circle_distr([3.5,9], 0.5, N//2)\n",
    "cl2 = circle_distr([3,2.5], 0.7, N)\n",
    "r1 = rectangle_distr([5.5,3], 1, 1, N//2)\n",
    "r2 = rectangle_distr([0.5,1], 1, 2, N)\n",
    "r3 = rectangle_distr([1,7.5], 2, 1, N//2)\n",
    "r4 = rectangle_distr([8,1], 2, 1, N//2)\n",
    "x = mdp.numx.concatenate([cf1, cf2, cl1, cl2, r1,r2,r3,r4], axis=0)\n",
    "x = mdp.numx.take(x,mdp.numx_rand.permutation(x.shape[0]), axis=0)\n",
    "\n",
    "gng = mdp.nodes.GrowingNeuralGasNode(max_nodes=400)\n",
    "\n",
    "#Create base image\n",
    "\n",
    "#Convert floating point numbers to intergers for display in an image\n",
    "def point_convert (x, y):\n",
    "    \"\"\"Convert point for gng to image point\"\"\"\n",
    "    scale = 100.\n",
    "    nx = int(x*scale)\n",
    "    ny = int(y*scale)\n",
    "    return (nx, ny)\n",
    "\n",
    "baseim = Image.new('RGB', (1000, 1000), '#ffffff')\n",
    "pix = baseim.load()\n",
    "\n",
    "for point in x:\n",
    "    impoint = point_convert(point[0], point[1])\n",
    "    pix[impoint[0], impoint[1]] = (0,0,0)\n",
    "\n",
    "\n",
    "#font = ImageFont.truetype(\"arial.ttf\", 24)\n",
    "#font = ImageFont.truetype(\"Verdana.ttf\", 24,encoding=\"unic\")\n",
    "\n",
    "step = 20\n",
    "total_points = x.shape[0]\n",
    "fills = ['#ff0000', '#00ff00', '#0000ff', '#ff00ff', '#00ffff', '#ff0088', '#ff8800', '#0088ff']\n",
    "for i in range(0, total_points, step):\n",
    "    im = baseim.copy()\n",
    "    gng.train(x[i: i+step])\n",
    "    objs = gng.graph.connected_components()\n",
    "    n_obj = len(objs)\n",
    "    \n",
    "    draw = ImageDraw.Draw(im)\n",
    "    \n",
    "    for j,obj in enumerate(objs):\n",
    "        for node in obj:\n",
    "            fx, fy = node.data.pos\n",
    "            nx, ny = point_convert(fx, fy)\n",
    "            draw.ellipse((nx-5, ny-5, nx+5, ny+5), fill=fills[j % 8])\n",
    "    \n",
    "    \n",
    "    #draw.text((700,900), \"{0:.2%} complete\".format(float(i+step)/float(total_points)), font=font, fill='#000000')\n",
    "    #draw.text((700,930), \"{0:d} connected components\".format(n_obj), font=font, fill='#000000')\n",
    "    del draw\n",
    "    #im.save('training{0:d}.png'.format(i+step), 'PNG')"
   ]
  },
  {
   "cell_type": "code",
   "execution_count": 37,
   "metadata": {},
   "outputs": [
    {
     "name": "stdout",
     "output_type": "stream",
     "text": [
      "x=69,y=720 (cluster#0)\n",
      "x=70,y=748 (cluster#0)\n",
      "x=54,y=774 (cluster#0)\n",
      "x=17,y=767 (cluster#0)\n",
      "x=106,y=733 (cluster#0)\n",
      "x=138,y=729 (cluster#0)\n",
      "x=170,y=732 (cluster#0)\n",
      "x=181,y=774 (cluster#0)\n",
      "x=143,y=776 (cluster#0)\n",
      "x=20,y=737 (cluster#0)\n",
      "x=97,y=778 (cluster#0)\n",
      "x=16,y=43 (cluster#1)\n",
      "x=53,y=18 (cluster#1)\n",
      "x=69,y=39 (cluster#1)\n",
      "x=87,y=88 (cluster#1)\n",
      "x=56,y=101 (cluster#1)\n",
      "x=54,y=138 (cluster#1)\n",
      "x=85,y=147 (cluster#1)\n",
      "x=69,y=160 (cluster#1)\n",
      "x=87,y=185 (cluster#1)\n",
      "x=44,y=185 (cluster#1)\n",
      "x=15,y=181 (cluster#1)\n",
      "x=23,y=140 (cluster#1)\n",
      "x=20,y=113 (cluster#1)\n",
      "x=87,y=119 (cluster#1)\n",
      "x=59,y=64 (cluster#1)\n",
      "x=38,y=69 (cluster#1)\n",
      "x=87,y=15 (cluster#1)\n",
      "x=24,y=15 (cluster#1)\n",
      "x=19,y=81 (cluster#1)\n",
      "x=877,y=69 (cluster#2)\n",
      "x=880,y=128 (cluster#2)\n",
      "x=855,y=123 (cluster#2)\n",
      "x=817,y=137 (cluster#2)\n",
      "x=773,y=118 (cluster#2)\n",
      "x=741,y=108 (cluster#2)\n",
      "x=722,y=98 (cluster#2)\n",
      "x=679,y=96 (cluster#2)\n",
      "x=738,y=68 (cluster#2)\n",
      "x=754,y=89 (cluster#2)\n",
      "x=785,y=70 (cluster#2)\n",
      "x=718,y=139 (cluster#2)\n",
      "x=829,y=75 (cluster#2)\n",
      "x=887,y=742 (cluster#3)\n",
      "x=923,y=695 (cluster#3)\n",
      "x=947,y=602 (cluster#3)\n",
      "x=936,y=544 (cluster#3)\n",
      "x=916,y=492 (cluster#3)\n",
      "x=862,y=436 (cluster#3)\n",
      "x=806,y=410 (cluster#3)\n",
      "x=726,y=403 (cluster#3)\n",
      "x=682,y=419 (cluster#3)\n",
      "x=644,y=433 (cluster#3)\n",
      "x=584,y=492 (cluster#3)\n",
      "x=569,y=537 (cluster#3)\n",
      "x=553,y=581 (cluster#3)\n",
      "x=565,y=668 (cluster#3)\n",
      "x=605,y=734 (cluster#3)\n",
      "x=671,y=781 (cluster#3)\n",
      "x=741,y=797 (cluster#3)\n",
      "x=819,y=785 (cluster#3)\n",
      "x=260,y=290 (cluster#4)\n",
      "x=290,y=285 (cluster#4)\n",
      "x=283,y=257 (cluster#4)\n",
      "x=277,y=228 (cluster#4)\n",
      "x=272,y=206 (cluster#4)\n",
      "x=307,y=192 (cluster#4)\n",
      "x=326,y=199 (cluster#4)\n",
      "x=344,y=218 (cluster#4)\n",
      "x=354,y=243 (cluster#4)\n",
      "x=352,y=273 (cluster#4)\n",
      "x=335,y=287 (cluster#4)\n",
      "x=309,y=221 (cluster#4)\n",
      "x=257,y=236 (cluster#4)\n",
      "x=322,y=274 (cluster#4)\n",
      "x=308,y=250 (cluster#4)\n",
      "x=303,y=308 (cluster#4)\n",
      "x=254,y=263 (cluster#4)\n",
      "x=576,y=268 (cluster#5)\n",
      "x=547,y=268 (cluster#5)\n",
      "x=521,y=271 (cluster#5)\n",
      "x=532,y=305 (cluster#5)\n",
      "x=508,y=323 (cluster#5)\n",
      "x=534,y=333 (cluster#5)\n",
      "x=559,y=331 (cluster#5)\n",
      "x=585,y=301 (cluster#5)\n",
      "x=552,y=289 (cluster#5)\n",
      "x=336,y=925 (cluster#6)\n",
      "x=353,y=925 (cluster#6)\n",
      "x=369,y=931 (cluster#6)\n",
      "x=378,y=898 (cluster#6)\n",
      "x=375,y=877 (cluster#6)\n",
      "x=338,y=863 (cluster#6)\n",
      "x=313,y=901 (cluster#6)\n",
      "x=344,y=886 (cluster#6)\n",
      "x=519,y=81 (cluster#7)\n",
      "x=522,y=115 (cluster#7)\n",
      "x=492,y=126 (cluster#7)\n",
      "x=475,y=97 (cluster#7)\n",
      "x=494,y=73 (cluster#7)\n"
     ]
    }
   ],
   "source": [
    "for j,obj in enumerate(gng.graph.connected_components()):\n",
    "    for node in obj:\n",
    "        fx, fy = node.data.pos\n",
    "        nx, ny = point_convert(fx, fy)\n",
    "        print('x=%d,y=%d (cluster#%d)'%(nx,ny,j))"
   ]
  },
  {
   "cell_type": "code",
   "execution_count": null,
   "metadata": {},
   "outputs": [],
   "source": []
  }
 ],
 "metadata": {
  "kernelspec": {
   "display_name": "Python 3",
   "language": "python",
   "name": "python3"
  },
  "language_info": {
   "codemirror_mode": {
    "name": "ipython",
    "version": 3
   },
   "file_extension": ".py",
   "mimetype": "text/x-python",
   "name": "python",
   "nbconvert_exporter": "python",
   "pygments_lexer": "ipython3",
   "version": "3.6.5"
  }
 },
 "nbformat": 4,
 "nbformat_minor": 2
}
